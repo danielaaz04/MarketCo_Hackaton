{
 "cells": [
  {
   "cell_type": "markdown",
   "metadata": {},
   "source": [
    "## Problem Definition"
   ]
  },
  {
   "cell_type": "markdown",
   "metadata": {},
   "source": [
    "MarketCo is a supermarket that keeps track of everything that their clients buy. The supermarket plans to launch an email marketing campaign and they want to be able to predict if a client would visit the supermarket in the next seven days so they can focus marketing campaign on them and avoid wasting marketing efforts and resources on clients who would probably not visit the supermarket."
   ]
  },
  {
   "cell_type": "markdown",
   "metadata": {},
   "source": [
    "### Importing Libraries"
   ]
  },
  {
   "cell_type": "code",
   "execution_count": 1,
   "metadata": {
    "execution": {
     "iopub.execute_input": "2021-11-21T16:37:31.649248Z",
     "iopub.status.busy": "2021-11-21T16:37:31.648617Z",
     "iopub.status.idle": "2021-11-21T16:37:33.39641Z",
     "shell.execute_reply": "2021-11-21T16:37:33.395193Z",
     "shell.execute_reply.started": "2021-11-21T16:37:31.649189Z"
    }
   },
   "outputs": [],
   "source": [
    "from datetime import datetime,date, timedelta\n",
    "import pandas as pd\n",
    "%matplotlib inline\n",
    "from sklearn import metrics\n",
    "from sklearn.metrics import accuracy_score, f1_score, confusion_matrix, classification_report\n",
    "import matplotlib.pyplot as plt\n",
    "import numpy as np\n",
    "import seaborn as sns\n",
    "import sklearn\n",
    "import warnings\n",
    "warnings.filterwarnings(\"ignore\")\n",
    "\n",
    "#import machine learning related libraries\n",
    "from sklearn.svm import SVC\n",
    "from sklearn.multioutput import MultiOutputClassifier\n",
    "from sklearn.ensemble import GradientBoostingClassifier\n",
    "from sklearn.tree import DecisionTreeClassifier\n",
    "from sklearn.neighbors import KNeighborsClassifier\n",
    "from sklearn.naive_bayes import GaussianNB\n",
    "from sklearn.ensemble import RandomForestClassifier\n",
    "from sklearn.linear_model import LogisticRegression\n",
    "import xgboost as xgb\n",
    "from sklearn.model_selection import KFold, cross_val_score, train_test_split\n"
   ]
  },
  {
   "cell_type": "markdown",
   "metadata": {},
   "source": [
    "### Loading the data"
   ]
  },
  {
   "cell_type": "code",
   "execution_count": 2,
   "metadata": {
    "execution": {
     "iopub.execute_input": "2021-11-21T16:37:33.398573Z",
     "iopub.status.busy": "2021-11-21T16:37:33.398149Z",
     "iopub.status.idle": "2021-11-21T16:37:52.425017Z",
     "shell.execute_reply": "2021-11-21T16:37:52.423974Z",
     "shell.execute_reply.started": "2021-11-21T16:37:33.398518Z"
    }
   },
   "outputs": [],
   "source": [
    "data = pd.read_csv('../data/data.csv')\n",
    "target = pd.read_csv('../data/train_labels.csv')\n",
    "test_labels = pd.read_csv('../data/test_labels.csv')"
   ]
  },
  {
   "cell_type": "code",
   "execution_count": 3,
   "metadata": {
    "execution": {
     "iopub.execute_input": "2021-11-21T16:37:52.427484Z",
     "iopub.status.busy": "2021-11-21T16:37:52.427241Z",
     "iopub.status.idle": "2021-11-21T16:37:52.433174Z",
     "shell.execute_reply": "2021-11-21T16:37:52.432311Z",
     "shell.execute_reply.started": "2021-11-21T16:37:52.427454Z"
    }
   },
   "outputs": [
    {
     "name": "stdout",
     "output_type": "stream",
     "text": [
      "The shape of the data is:(10664209, 8)\n"
     ]
    }
   ],
   "source": [
    "print(\"The shape of the data is:\" + str(data.shape))"
   ]
  },
  {
   "cell_type": "code",
   "execution_count": null,
   "metadata": {
    "execution": {
     "iopub.execute_input": "2021-11-21T16:37:52.434903Z",
     "iopub.status.busy": "2021-11-21T16:37:52.434528Z",
     "iopub.status.idle": "2021-11-21T16:37:52.470629Z",
     "shell.execute_reply": "2021-11-21T16:37:52.469745Z",
     "shell.execute_reply.started": "2021-11-21T16:37:52.434871Z"
    }
   },
   "outputs": [],
   "source": [
    "#First rows of the data\n",
    "data.head()"
   ]
  },
  {
   "cell_type": "code",
   "execution_count": null,
   "metadata": {
    "execution": {
     "iopub.execute_input": "2021-11-21T16:37:52.474853Z",
     "iopub.status.busy": "2021-11-21T16:37:52.474577Z",
     "iopub.status.idle": "2021-11-21T16:37:52.50393Z",
     "shell.execute_reply": "2021-11-21T16:37:52.502558Z",
     "shell.execute_reply.started": "2021-11-21T16:37:52.474824Z"
    }
   },
   "outputs": [],
   "source": [
    "#Checking each feature's type.\n",
    "data.info()"
   ]
  },
  {
   "cell_type": "code",
   "execution_count": null,
   "metadata": {
    "execution": {
     "iopub.execute_input": "2021-11-21T16:37:52.506097Z",
     "iopub.status.busy": "2021-11-21T16:37:52.505716Z",
     "iopub.status.idle": "2021-11-21T16:37:53.833784Z",
     "shell.execute_reply": "2021-11-21T16:37:53.832825Z",
     "shell.execute_reply.started": "2021-11-21T16:37:52.506048Z"
    }
   },
   "outputs": [],
   "source": [
    "#Checking if there are any null values at any feature column.\n",
    "data.isnull().sum()"
   ]
  },
  {
   "cell_type": "code",
   "execution_count": null,
   "metadata": {
    "execution": {
     "iopub.execute_input": "2021-11-21T16:37:53.835527Z",
     "iopub.status.busy": "2021-11-21T16:37:53.835176Z",
     "iopub.status.idle": "2021-11-21T16:37:56.169935Z",
     "shell.execute_reply": "2021-11-21T16:37:56.169028Z",
     "shell.execute_reply.started": "2021-11-21T16:37:53.835493Z"
    }
   },
   "outputs": [],
   "source": [
    "#Converting date column into datetime type\n",
    "data['date'] = pd.to_datetime(data['date'])"
   ]
  },
  {
   "cell_type": "code",
   "execution_count": null,
   "metadata": {
    "execution": {
     "iopub.execute_input": "2021-11-21T16:37:56.171664Z",
     "iopub.status.busy": "2021-11-21T16:37:56.171282Z",
     "iopub.status.idle": "2021-11-21T16:37:56.338043Z",
     "shell.execute_reply": "2021-11-21T16:37:56.337105Z",
     "shell.execute_reply.started": "2021-11-21T16:37:56.171621Z"
    }
   },
   "outputs": [],
   "source": [
    "#Eliminating columns I will not use for modeling\n",
    "data.drop(['category_code', 'item_code','qty_sold'], axis=1, inplace=True)"
   ]
  },
  {
   "cell_type": "markdown",
   "metadata": {},
   "source": [
    "### Making sure data is clean"
   ]
  },
  {
   "cell_type": "code",
   "execution_count": null,
   "metadata": {
    "execution": {
     "iopub.execute_input": "2021-11-21T16:37:56.341611Z",
     "iopub.status.busy": "2021-11-21T16:37:56.341338Z",
     "iopub.status.idle": "2021-11-21T16:37:56.840277Z",
     "shell.execute_reply": "2021-11-21T16:37:56.839368Z",
     "shell.execute_reply.started": "2021-11-21T16:37:56.34158Z"
    }
   },
   "outputs": [],
   "source": [
    "#Making sure all dates are inside the interval of 2020-06-01 & 2020-10-24\n",
    "\n",
    "data = data[(data['date'] >= '2020-06-01') & (data['date'] <= '2020-10-24')]\n",
    "data.shape"
   ]
  },
  {
   "cell_type": "code",
   "execution_count": null,
   "metadata": {
    "execution": {
     "iopub.execute_input": "2021-11-21T16:37:56.843059Z",
     "iopub.status.busy": "2021-11-21T16:37:56.842845Z",
     "iopub.status.idle": "2021-11-21T16:37:57.668703Z",
     "shell.execute_reply": "2021-11-21T16:37:57.66779Z",
     "shell.execute_reply.started": "2021-11-21T16:37:56.843035Z"
    }
   },
   "outputs": [],
   "source": [
    "#Removing data that has more than 75% of NaN values\n",
    "perc = 75\n",
    "min_count =  int(((100-perc)/100)*data.shape[1] + 1)\n",
    "verified_data = data.dropna( axis=0, \n",
    "                    thresh=min_count)\n",
    "\n",
    "verified_data.shape"
   ]
  },
  {
   "cell_type": "markdown",
   "metadata": {},
   "source": [
    "### Creating relevant features"
   ]
  },
  {
   "cell_type": "markdown",
   "metadata": {},
   "source": [
    "Feature 1: Days since the last purchase made by each client"
   ]
  },
  {
   "cell_type": "code",
   "execution_count": null,
   "metadata": {
    "execution": {
     "iopub.execute_input": "2021-11-21T16:37:57.670386Z",
     "iopub.status.busy": "2021-11-21T16:37:57.67013Z",
     "iopub.status.idle": "2021-11-21T16:37:57.714572Z",
     "shell.execute_reply": "2021-11-21T16:37:57.71368Z",
     "shell.execute_reply.started": "2021-11-21T16:37:57.670354Z"
    }
   },
   "outputs": [],
   "source": [
    "#Creating a column to refer 2020-10-24 as if it were today's date \n",
    "verified_data['today'] = pd.to_datetime('2020-10-24')"
   ]
  },
  {
   "cell_type": "code",
   "execution_count": null,
   "metadata": {
    "execution": {
     "iopub.execute_input": "2021-11-21T16:37:57.716443Z",
     "iopub.status.busy": "2021-11-21T16:37:57.716167Z",
     "iopub.status.idle": "2021-11-21T16:37:58.279584Z",
     "shell.execute_reply": "2021-11-21T16:37:58.278559Z",
     "shell.execute_reply.started": "2021-11-21T16:37:57.716411Z"
    }
   },
   "outputs": [],
   "source": [
    "#Creating a column to calculate the number of days passed since every date in the dataset\n",
    "#until today(2020-10-24)\n",
    "\n",
    "verified_data['days_since_last'] = (verified_data.today - verified_data.date).dt.days.abs()"
   ]
  },
  {
   "cell_type": "code",
   "execution_count": null,
   "metadata": {
    "execution": {
     "iopub.execute_input": "2021-11-21T16:37:58.281346Z",
     "iopub.status.busy": "2021-11-21T16:37:58.28111Z",
     "iopub.status.idle": "2021-11-21T16:37:59.432597Z",
     "shell.execute_reply": "2021-11-21T16:37:59.431547Z",
     "shell.execute_reply.started": "2021-11-21T16:37:58.281317Z"
    }
   },
   "outputs": [],
   "source": [
    "#Setting client_id as index column\n",
    "verified_data.set_index('client_id')"
   ]
  },
  {
   "cell_type": "markdown",
   "metadata": {},
   "source": [
    "Creating a profit column (price - cost)"
   ]
  },
  {
   "cell_type": "code",
   "execution_count": null,
   "metadata": {
    "execution": {
     "iopub.execute_input": "2021-11-21T16:37:59.434555Z",
     "iopub.status.busy": "2021-11-21T16:37:59.434208Z",
     "iopub.status.idle": "2021-11-21T16:37:59.528699Z",
     "shell.execute_reply": "2021-11-21T16:37:59.527943Z",
     "shell.execute_reply.started": "2021-11-21T16:37:59.434518Z"
    }
   },
   "outputs": [],
   "source": [
    "verified_data['profit'] = (verified_data['price']-verified_data['cost'])"
   ]
  },
  {
   "cell_type": "code",
   "execution_count": null,
   "metadata": {
    "execution": {
     "iopub.execute_input": "2021-11-21T16:37:59.531004Z",
     "iopub.status.busy": "2021-11-21T16:37:59.530028Z",
     "iopub.status.idle": "2021-11-21T16:38:00.429372Z",
     "shell.execute_reply": "2021-11-21T16:38:00.428517Z",
     "shell.execute_reply.started": "2021-11-21T16:37:59.530928Z"
    }
   },
   "outputs": [],
   "source": [
    "#creating a dataframe to show days since last visit per client\n",
    "feature1= verified_data.groupby('client_id', as_index=False)['days_since_last']\n",
    "feature1_df = pd.DataFrame(feature1.min())\n",
    "feature1_df = feature1_df.rename(columns={'days' : 'days_since_last'})"
   ]
  },
  {
   "cell_type": "code",
   "execution_count": null,
   "metadata": {
    "execution": {
     "iopub.execute_input": "2021-11-21T16:38:00.431085Z",
     "iopub.status.busy": "2021-11-21T16:38:00.430869Z",
     "iopub.status.idle": "2021-11-21T16:38:00.4375Z",
     "shell.execute_reply": "2021-11-21T16:38:00.436637Z",
     "shell.execute_reply.started": "2021-11-21T16:38:00.431059Z"
    }
   },
   "outputs": [],
   "source": [
    "feature1_df.shape"
   ]
  },
  {
   "cell_type": "code",
   "execution_count": null,
   "metadata": {
    "execution": {
     "iopub.execute_input": "2021-11-21T16:38:00.439492Z",
     "iopub.status.busy": "2021-11-21T16:38:00.439165Z",
     "iopub.status.idle": "2021-11-21T16:38:01.817376Z",
     "shell.execute_reply": "2021-11-21T16:38:01.816371Z",
     "shell.execute_reply.started": "2021-11-21T16:38:00.439447Z"
    }
   },
   "outputs": [],
   "source": [
    "#Creating a dataframe that shows profit generated per client\n",
    "money = verified_data.groupby(['client_id','date'])['profit']\n",
    "money_df = pd.DataFrame(money.sum().reset_index(name = 'profit'))"
   ]
  },
  {
   "cell_type": "markdown",
   "metadata": {},
   "source": [
    "Feature 2 : Average days between each purchase (per client)"
   ]
  },
  {
   "cell_type": "code",
   "execution_count": null,
   "metadata": {
    "execution": {
     "iopub.execute_input": "2021-11-21T16:38:01.819196Z",
     "iopub.status.busy": "2021-11-21T16:38:01.818728Z",
     "iopub.status.idle": "2021-11-21T16:38:02.699363Z",
     "shell.execute_reply": "2021-11-21T16:38:02.6983Z",
     "shell.execute_reply.started": "2021-11-21T16:38:01.819161Z"
    }
   },
   "outputs": [],
   "source": [
    "money_df['days'] = (money_df.sort_values('date').groupby('client_id').date.shift() - money_df.date).dt.days.abs()"
   ]
  },
  {
   "cell_type": "code",
   "execution_count": null,
   "metadata": {
    "execution": {
     "iopub.execute_input": "2021-11-21T16:38:02.701849Z",
     "iopub.status.busy": "2021-11-21T16:38:02.701419Z",
     "iopub.status.idle": "2021-11-21T16:38:02.723065Z",
     "shell.execute_reply": "2021-11-21T16:38:02.72203Z",
     "shell.execute_reply.started": "2021-11-21T16:38:02.701802Z"
    }
   },
   "outputs": [],
   "source": [
    "money_df['days'] = money_df['days'].fillna(0)"
   ]
  },
  {
   "cell_type": "code",
   "execution_count": null,
   "metadata": {
    "execution": {
     "iopub.execute_input": "2021-11-21T16:38:02.724697Z",
     "iopub.status.busy": "2021-11-21T16:38:02.724424Z",
     "iopub.status.idle": "2021-11-21T16:38:02.737679Z",
     "shell.execute_reply": "2021-11-21T16:38:02.737008Z",
     "shell.execute_reply.started": "2021-11-21T16:38:02.724663Z"
    }
   },
   "outputs": [],
   "source": [
    "money_df.head()"
   ]
  },
  {
   "cell_type": "code",
   "execution_count": null,
   "metadata": {
    "execution": {
     "iopub.execute_input": "2021-11-21T16:38:02.739608Z",
     "iopub.status.busy": "2021-11-21T16:38:02.738975Z",
     "iopub.status.idle": "2021-11-21T16:38:02.804714Z",
     "shell.execute_reply": "2021-11-21T16:38:02.803637Z",
     "shell.execute_reply.started": "2021-11-21T16:38:02.739574Z"
    }
   },
   "outputs": [],
   "source": [
    "feature2 = money_df.groupby(['client_id'], as_index=False)['days']\n",
    "feature2_df = pd.DataFrame(feature2.mean().round())\n",
    "feature2_df = feature2_df.rename(columns={'days' : 'avg_frequency'})"
   ]
  },
  {
   "cell_type": "markdown",
   "metadata": {},
   "source": [
    "Feature 3: Profit per client"
   ]
  },
  {
   "cell_type": "code",
   "execution_count": null,
   "metadata": {
    "execution": {
     "iopub.execute_input": "2021-11-21T16:38:02.806638Z",
     "iopub.status.busy": "2021-11-21T16:38:02.806407Z",
     "iopub.status.idle": "2021-11-21T16:38:02.862552Z",
     "shell.execute_reply": "2021-11-21T16:38:02.861487Z",
     "shell.execute_reply.started": "2021-11-21T16:38:02.80661Z"
    }
   },
   "outputs": [],
   "source": [
    "#This feature will be used only for strategy, to select the clients that generate more profit\n",
    "#for the company, but it will not be used to predict if client will come back in 7 days.\n",
    "\n",
    "feature3 = money_df.groupby(['client_id'], as_index=False)['profit']\n",
    "feature3_df = pd.DataFrame(feature3.mean().round())\n",
    "feature3_df = feature3_df.rename(columns={'days' : 'avg_profit'})"
   ]
  },
  {
   "cell_type": "code",
   "execution_count": null,
   "metadata": {
    "execution": {
     "iopub.execute_input": "2021-11-21T16:38:02.864784Z",
     "iopub.status.busy": "2021-11-21T16:38:02.864452Z",
     "iopub.status.idle": "2021-11-21T16:38:02.870409Z",
     "shell.execute_reply": "2021-11-21T16:38:02.86956Z",
     "shell.execute_reply.started": "2021-11-21T16:38:02.864722Z"
    }
   },
   "outputs": [],
   "source": [
    "feature1_df = feature1_df.set_index('client_id')"
   ]
  },
  {
   "cell_type": "markdown",
   "metadata": {},
   "source": [
    "### Joining Data"
   ]
  },
  {
   "cell_type": "code",
   "execution_count": null,
   "metadata": {
    "execution": {
     "iopub.execute_input": "2021-11-21T16:38:02.871994Z",
     "iopub.status.busy": "2021-11-21T16:38:02.871747Z",
     "iopub.status.idle": "2021-11-21T16:38:02.915152Z",
     "shell.execute_reply": "2021-11-21T16:38:02.914236Z",
     "shell.execute_reply.started": "2021-11-21T16:38:02.871966Z"
    }
   },
   "outputs": [],
   "source": [
    "inner_merged = pd.merge(feature1_df, feature2_df, on='client_id')"
   ]
  },
  {
   "cell_type": "code",
   "execution_count": null,
   "metadata": {
    "execution": {
     "iopub.execute_input": "2021-11-21T16:38:02.917171Z",
     "iopub.status.busy": "2021-11-21T16:38:02.91656Z",
     "iopub.status.idle": "2021-11-21T16:38:02.92904Z",
     "shell.execute_reply": "2021-11-21T16:38:02.928219Z",
     "shell.execute_reply.started": "2021-11-21T16:38:02.917134Z"
    }
   },
   "outputs": [],
   "source": [
    "inner_merged.head()"
   ]
  },
  {
   "cell_type": "markdown",
   "metadata": {},
   "source": [
    "Creating a new column that estimates how many days left for the next clients purchase"
   ]
  },
  {
   "cell_type": "code",
   "execution_count": null,
   "metadata": {
    "execution": {
     "iopub.execute_input": "2021-11-21T16:38:02.930677Z",
     "iopub.status.busy": "2021-11-21T16:38:02.930402Z",
     "iopub.status.idle": "2021-11-21T16:38:02.94757Z",
     "shell.execute_reply": "2021-11-21T16:38:02.946696Z",
     "shell.execute_reply.started": "2021-11-21T16:38:02.930645Z"
    }
   },
   "outputs": [],
   "source": [
    "inner_merged['prob_next_purchase'] = (0 - inner_merged['days_since_last'] + inner_merged['avg_frequency'])"
   ]
  },
  {
   "cell_type": "code",
   "execution_count": null,
   "metadata": {
    "execution": {
     "iopub.execute_input": "2021-11-21T16:38:02.95628Z",
     "iopub.status.busy": "2021-11-21T16:38:02.955292Z",
     "iopub.status.idle": "2021-11-21T16:38:02.962465Z",
     "shell.execute_reply": "2021-11-21T16:38:02.961498Z",
     "shell.execute_reply.started": "2021-11-21T16:38:02.956238Z"
    }
   },
   "outputs": [],
   "source": [
    "inner_merged.shape"
   ]
  },
  {
   "cell_type": "code",
   "execution_count": null,
   "metadata": {
    "execution": {
     "iopub.execute_input": "2021-11-21T16:38:02.964559Z",
     "iopub.status.busy": "2021-11-21T16:38:02.963981Z",
     "iopub.status.idle": "2021-11-21T16:38:02.977081Z",
     "shell.execute_reply": "2021-11-21T16:38:02.976113Z",
     "shell.execute_reply.started": "2021-11-21T16:38:02.964512Z"
    }
   },
   "outputs": [],
   "source": [
    "#Setting client_id as index column in train_labels dataset\n",
    "target = target.set_index('client_id')"
   ]
  },
  {
   "cell_type": "markdown",
   "metadata": {},
   "source": [
    "Joining our data with the training labels to be able to train the model"
   ]
  },
  {
   "cell_type": "code",
   "execution_count": null,
   "metadata": {
    "execution": {
     "iopub.execute_input": "2021-11-21T16:38:02.979322Z",
     "iopub.status.busy": "2021-11-21T16:38:02.978512Z",
     "iopub.status.idle": "2021-11-21T16:38:03.012659Z",
     "shell.execute_reply": "2021-11-21T16:38:03.011863Z",
     "shell.execute_reply.started": "2021-11-21T16:38:02.97924Z"
    }
   },
   "outputs": [],
   "source": [
    "final_data = pd.merge(inner_merged, target, on='client_id')"
   ]
  },
  {
   "cell_type": "code",
   "execution_count": null,
   "metadata": {
    "execution": {
     "iopub.execute_input": "2021-11-21T16:38:03.014966Z",
     "iopub.status.busy": "2021-11-21T16:38:03.014195Z",
     "iopub.status.idle": "2021-11-21T16:38:03.029173Z",
     "shell.execute_reply": "2021-11-21T16:38:03.028301Z",
     "shell.execute_reply.started": "2021-11-21T16:38:03.014918Z"
    }
   },
   "outputs": [],
   "source": [
    "final_data.head()"
   ]
  },
  {
   "cell_type": "code",
   "execution_count": null,
   "metadata": {
    "execution": {
     "iopub.execute_input": "2021-11-21T16:38:03.031671Z",
     "iopub.status.busy": "2021-11-21T16:38:03.030694Z",
     "iopub.status.idle": "2021-11-21T16:38:03.059113Z",
     "shell.execute_reply": "2021-11-21T16:38:03.058375Z",
     "shell.execute_reply.started": "2021-11-21T16:38:03.03162Z"
    }
   },
   "outputs": [],
   "source": [
    "final_data.set_index('client_id')"
   ]
  },
  {
   "cell_type": "markdown",
   "metadata": {},
   "source": [
    "### Modeling"
   ]
  },
  {
   "cell_type": "code",
   "execution_count": null,
   "metadata": {
    "execution": {
     "iopub.execute_input": "2021-11-21T16:38:03.06067Z",
     "iopub.status.busy": "2021-11-21T16:38:03.060266Z",
     "iopub.status.idle": "2021-11-21T16:38:03.06936Z",
     "shell.execute_reply": "2021-11-21T16:38:03.068324Z",
     "shell.execute_reply.started": "2021-11-21T16:38:03.060638Z"
    }
   },
   "outputs": [],
   "source": [
    "#Now we divide again the final data into target_variable and train data to be able to split it for validation\n",
    "\n",
    "target_variable= final_data['target_visit']\n",
    "train_data = final_data.drop('target_visit',axis=1)"
   ]
  },
  {
   "cell_type": "code",
   "execution_count": null,
   "metadata": {
    "execution": {
     "iopub.execute_input": "2021-11-21T16:38:03.071527Z",
     "iopub.status.busy": "2021-11-21T16:38:03.071218Z",
     "iopub.status.idle": "2021-11-21T16:38:03.088794Z",
     "shell.execute_reply": "2021-11-21T16:38:03.088072Z",
     "shell.execute_reply.started": "2021-11-21T16:38:03.071496Z"
    }
   },
   "outputs": [],
   "source": [
    "X_train, X_test, y_train, y_test = train_test_split(train_data, target_variable, test_size=0.2, random_state=42)"
   ]
  },
  {
   "cell_type": "markdown",
   "metadata": {},
   "source": [
    "**Baseline Model**"
   ]
  },
  {
   "cell_type": "code",
   "execution_count": null,
   "metadata": {
    "execution": {
     "iopub.execute_input": "2021-11-21T16:38:03.09061Z",
     "iopub.status.busy": "2021-11-21T16:38:03.089982Z",
     "iopub.status.idle": "2021-11-21T16:38:03.314865Z",
     "shell.execute_reply": "2021-11-21T16:38:03.313808Z",
     "shell.execute_reply.started": "2021-11-21T16:38:03.090578Z"
    }
   },
   "outputs": [],
   "source": [
    "#Let's visualize the distribution of our target variable.\n",
    "\n",
    "sns.countplot(x=target_variable)\n",
    "plt.title('Distribution of clients in the 7 next days')\n",
    "plt.show()"
   ]
  },
  {
   "cell_type": "code",
   "execution_count": null,
   "metadata": {
    "execution": {
     "iopub.execute_input": "2021-11-21T16:38:03.317334Z",
     "iopub.status.busy": "2021-11-21T16:38:03.31679Z",
     "iopub.status.idle": "2021-11-21T16:38:03.331389Z",
     "shell.execute_reply": "2021-11-21T16:38:03.330441Z",
     "shell.execute_reply.started": "2021-11-21T16:38:03.317287Z"
    }
   },
   "outputs": [],
   "source": [
    "target.value_counts(normalize = True) *100"
   ]
  },
  {
   "cell_type": "code",
   "execution_count": null,
   "metadata": {
    "execution": {
     "iopub.execute_input": "2021-11-21T16:38:03.334046Z",
     "iopub.status.busy": "2021-11-21T16:38:03.333524Z",
     "iopub.status.idle": "2021-11-21T16:38:03.347005Z",
     "shell.execute_reply": "2021-11-21T16:38:03.346216Z",
     "shell.execute_reply.started": "2021-11-21T16:38:03.334002Z"
    }
   },
   "outputs": [],
   "source": [
    "#Creating a dymmy model that estimates the results by considering the most frequent value in our target labels\n",
    "\n",
    "from sklearn.dummy import DummyClassifier\n",
    "\n",
    "dummy_clf = DummyClassifier(strategy=\"most_frequent\")\n",
    "dummy_clf.fit(X_train, y_train)"
   ]
  },
  {
   "cell_type": "code",
   "execution_count": null,
   "metadata": {
    "execution": {
     "iopub.execute_input": "2021-11-21T16:38:03.349085Z",
     "iopub.status.busy": "2021-11-21T16:38:03.348466Z",
     "iopub.status.idle": "2021-11-21T16:38:03.361539Z",
     "shell.execute_reply": "2021-11-21T16:38:03.360672Z",
     "shell.execute_reply.started": "2021-11-21T16:38:03.349046Z"
    }
   },
   "outputs": [],
   "source": [
    "dummy_clf.predict(X_train)\n",
    "dummy_clf.score(X_train, y_train)"
   ]
  },
  {
   "cell_type": "markdown",
   "metadata": {},
   "source": [
    "We used this baseline model to know how our final model will perform. Now, any machine learning model that improves on this baseline is adding value."
   ]
  },
  {
   "cell_type": "markdown",
   "metadata": {},
   "source": [
    "**Selecting the best algorithm**"
   ]
  },
  {
   "cell_type": "code",
   "execution_count": null,
   "metadata": {
    "execution": {
     "iopub.execute_input": "2021-11-21T16:38:03.363774Z",
     "iopub.status.busy": "2021-11-21T16:38:03.363413Z",
     "iopub.status.idle": "2021-11-21T16:38:55.429855Z",
     "shell.execute_reply": "2021-11-21T16:38:55.428917Z",
     "shell.execute_reply.started": "2021-11-21T16:38:03.363717Z"
    }
   },
   "outputs": [],
   "source": [
    "#create an array of models\n",
    "models = []\n",
    "models.append((\"LR\",LogisticRegression()))\n",
    "models.append((\"Dtree\",DecisionTreeClassifier()))\n",
    "models.append((\"RF\",RandomForestClassifier()))\n",
    "models.append((\"XGB\",xgb.XGBClassifier()))\n",
    "models.append((\"NB\",GaussianNB()))\n",
    "#models.append((\"SVC\",SVC()))\n",
    "\n",
    "#measure the f1 score for each one\n",
    "for name,model in models:\n",
    "    kfold = KFold(n_splits=4, random_state=None)\n",
    "    cv_result = cross_val_score(model,X_train,y_train, cv = kfold,scoring = \"f1_weighted\")\n",
    "    print(name, cv_result) "
   ]
  },
  {
   "cell_type": "markdown",
   "metadata": {},
   "source": [
    "We can see that the best F1 score came from using XGBoost model, so we will focus on finding the best hyperparamters to model our data using XGBoost."
   ]
  },
  {
   "cell_type": "code",
   "execution_count": null,
   "metadata": {
    "execution": {
     "iopub.execute_input": "2021-11-21T16:38:55.431317Z",
     "iopub.status.busy": "2021-11-21T16:38:55.431108Z",
     "iopub.status.idle": "2021-11-21T16:38:59.184274Z",
     "shell.execute_reply": "2021-11-21T16:38:59.183624Z",
     "shell.execute_reply.started": "2021-11-21T16:38:55.431292Z"
    }
   },
   "outputs": [],
   "source": [
    "xgb_model = xgb.XGBClassifier( use_label_encoder =False, objective= 'binary:logistic', nthread=4, seed=42)\n",
    "xgb_model.fit(X_train, y_train)\n",
    "\n",
    "print('Accuracy of XGB classifier on training set: {:.2f}'\n",
    "       .format(xgb_model.score(X_train, y_train)))\n",
    "print('Accuracy of XGB classifier on test set: {:.2f}'\n",
    "       .format(xgb_model.score(X_test[X_train.columns], y_test)))"
   ]
  },
  {
   "cell_type": "code",
   "execution_count": null,
   "metadata": {
    "execution": {
     "iopub.execute_input": "2021-11-21T16:38:59.185955Z",
     "iopub.status.busy": "2021-11-21T16:38:59.185513Z",
     "iopub.status.idle": "2021-11-21T16:38:59.211611Z",
     "shell.execute_reply": "2021-11-21T16:38:59.21094Z",
     "shell.execute_reply.started": "2021-11-21T16:38:59.185921Z"
    }
   },
   "outputs": [],
   "source": [
    "xgb_predictions = xgb_model.predict(X_test)"
   ]
  },
  {
   "cell_type": "code",
   "execution_count": null,
   "metadata": {
    "execution": {
     "iopub.execute_input": "2021-11-21T16:38:59.213513Z",
     "iopub.status.busy": "2021-11-21T16:38:59.213044Z",
     "iopub.status.idle": "2021-11-21T16:38:59.220324Z",
     "shell.execute_reply": "2021-11-21T16:38:59.219688Z",
     "shell.execute_reply.started": "2021-11-21T16:38:59.21348Z"
    }
   },
   "outputs": [],
   "source": [
    "#Model Accuracy, how often is the classifier correct?\n",
    "print(\"Accuracy:\", metrics.accuracy_score(y_test, xgb_predictions))"
   ]
  },
  {
   "cell_type": "code",
   "execution_count": null,
   "metadata": {
    "execution": {
     "iopub.execute_input": "2021-11-21T16:38:59.222168Z",
     "iopub.status.busy": "2021-11-21T16:38:59.221693Z",
     "iopub.status.idle": "2021-11-21T16:38:59.261797Z",
     "shell.execute_reply": "2021-11-21T16:38:59.261201Z",
     "shell.execute_reply.started": "2021-11-21T16:38:59.222134Z"
    }
   },
   "outputs": [],
   "source": [
    "#Classification report\n",
    "print(classification_report(y_test, xgb_predictions))"
   ]
  },
  {
   "cell_type": "code",
   "execution_count": null,
   "metadata": {
    "execution": {
     "iopub.execute_input": "2021-11-21T16:38:59.263401Z",
     "iopub.status.busy": "2021-11-21T16:38:59.262993Z",
     "iopub.status.idle": "2021-11-21T16:38:59.528612Z",
     "shell.execute_reply": "2021-11-21T16:38:59.527736Z",
     "shell.execute_reply.started": "2021-11-21T16:38:59.26337Z"
    }
   },
   "outputs": [],
   "source": [
    "# Confusion matrix\n",
    "fig, ax = plt.subplots()\n",
    "sns.heatmap(confusion_matrix(y_test, xgb_predictions, normalize='true'), annot=True, ax=ax)\n",
    "ax.set_title('Confusion Matrix')\n",
    "ax.set_ylabel('Real Value')\n",
    "ax.set_xlabel('Predicted Value')\n",
    "\n",
    "plt.show()"
   ]
  },
  {
   "cell_type": "markdown",
   "metadata": {},
   "source": [
    "**Hyperparameter tuning**"
   ]
  },
  {
   "cell_type": "code",
   "execution_count": null,
   "metadata": {
    "execution": {
     "iopub.execute_input": "2021-11-21T16:38:59.536916Z",
     "iopub.status.busy": "2021-11-21T16:38:59.536631Z",
     "iopub.status.idle": "2021-11-21T16:38:59.548357Z",
     "shell.execute_reply": "2021-11-21T16:38:59.54755Z",
     "shell.execute_reply.started": "2021-11-21T16:38:59.536887Z"
    }
   },
   "outputs": [],
   "source": [
    "#We try with some diferent parameters\n",
    "xgb_model = xgb.XGBClassifier(learning_rate=0.02, n_estimators=600, objective='binary:logistic',\n",
    "                    silent=True, nthread=1)"
   ]
  },
  {
   "cell_type": "markdown",
   "metadata": {},
   "source": [
    "We will use a RandomizedSearch to search randomly for best parameters (for time efficiency)"
   ]
  },
  {
   "cell_type": "code",
   "execution_count": null,
   "metadata": {
    "execution": {
     "iopub.execute_input": "2021-11-21T16:38:59.52991Z",
     "iopub.status.busy": "2021-11-21T16:38:59.529692Z",
     "iopub.status.idle": "2021-11-21T16:38:59.535223Z",
     "shell.execute_reply": "2021-11-21T16:38:59.534479Z",
     "shell.execute_reply.started": "2021-11-21T16:38:59.529884Z"
    }
   },
   "outputs": [],
   "source": [
    "# A parameter grid for XGBoost\n",
    "params = {\n",
    "        'min_child_weight': [1, 5, 10],\n",
    "        'gamma': [0.5, 1, 1.5, 2, 5],\n",
    "        'subsample': [0.6, 0.8, 1.0],\n",
    "        'colsample_bytree': [0.6, 0.8, 1.0],\n",
    "        'max_depth': [3, 4, 5]\n",
    "        }"
   ]
  },
  {
   "cell_type": "code",
   "execution_count": null,
   "metadata": {
    "execution": {
     "iopub.execute_input": "2021-11-21T16:38:59.549877Z",
     "iopub.status.busy": "2021-11-21T16:38:59.549575Z",
     "iopub.status.idle": "2021-11-21T16:40:45.261534Z",
     "shell.execute_reply": "2021-11-21T16:40:45.260669Z",
     "shell.execute_reply.started": "2021-11-21T16:38:59.549846Z"
    }
   },
   "outputs": [],
   "source": [
    "from sklearn.model_selection import RandomizedSearchCV, StratifiedKFold\n",
    "\n",
    "folds = 3\n",
    "param_comb = 5\n",
    "\n",
    "skf = StratifiedKFold(n_splits=folds, shuffle = True, random_state = 1001)\n",
    "\n",
    "random_search = RandomizedSearchCV(xgb_model, param_distributions=params, n_iter=param_comb, scoring='f1_weighted', n_jobs=4, cv=skf.split(X_train,y_train), verbose=3, random_state=1001 )\n",
    "random_search.fit(X_train, y_train)"
   ]
  },
  {
   "cell_type": "code",
   "execution_count": null,
   "metadata": {
    "execution": {
     "iopub.execute_input": "2021-11-21T16:40:45.263504Z",
     "iopub.status.busy": "2021-11-21T16:40:45.263124Z",
     "iopub.status.idle": "2021-11-21T16:40:45.26973Z",
     "shell.execute_reply": "2021-11-21T16:40:45.268654Z",
     "shell.execute_reply.started": "2021-11-21T16:40:45.263473Z"
    }
   },
   "outputs": [],
   "source": [
    "print('\\n Best hyperparameters:')\n",
    "print(random_search.best_params_)"
   ]
  },
  {
   "cell_type": "markdown",
   "metadata": {},
   "source": [
    "Building my model again putting all the parameters together."
   ]
  },
  {
   "cell_type": "code",
   "execution_count": null,
   "metadata": {
    "execution": {
     "iopub.execute_input": "2021-11-21T16:40:45.271526Z",
     "iopub.status.busy": "2021-11-21T16:40:45.271292Z",
     "iopub.status.idle": "2021-11-21T16:41:07.339595Z",
     "shell.execute_reply": "2021-11-21T16:41:07.338507Z",
     "shell.execute_reply.started": "2021-11-21T16:40:45.271498Z"
    }
   },
   "outputs": [],
   "source": [
    "xgb_model = xgb.XGBClassifier(learning_rate=0.02, n_estimators=600, objective='binary:logistic', nthread=1, use_label_encoder =False, \n",
    "                              seed=42, subsample= 0.6, min_child_weight= 1, max_depth= 5, gamma=1.5, colsample_bytree= 0.8)\n",
    "xgb_model.fit(X_train, y_train)\n",
    "\n",
    "print('Accuracy of XGB classifier on training set: {:.2f}'\n",
    "       .format(xgb_model.score(X_train, y_train)))\n",
    "print('Accuracy of XGB classifier on test set: {:.2f}'\n",
    "       .format(xgb_model.score(X_test[X_train.columns], y_test)))"
   ]
  },
  {
   "cell_type": "code",
   "execution_count": null,
   "metadata": {
    "execution": {
     "iopub.execute_input": "2021-11-21T16:41:07.341337Z",
     "iopub.status.busy": "2021-11-21T16:41:07.341079Z",
     "iopub.status.idle": "2021-11-21T16:41:07.548235Z",
     "shell.execute_reply": "2021-11-21T16:41:07.547145Z",
     "shell.execute_reply.started": "2021-11-21T16:41:07.341309Z"
    }
   },
   "outputs": [],
   "source": [
    "xgb_predictions = xgb_model.predict(X_test)"
   ]
  },
  {
   "cell_type": "code",
   "execution_count": null,
   "metadata": {
    "execution": {
     "iopub.execute_input": "2021-11-21T16:41:07.549972Z",
     "iopub.status.busy": "2021-11-21T16:41:07.549635Z",
     "iopub.status.idle": "2021-11-21T16:41:07.589515Z",
     "shell.execute_reply": "2021-11-21T16:41:07.58826Z",
     "shell.execute_reply.started": "2021-11-21T16:41:07.549934Z"
    }
   },
   "outputs": [],
   "source": [
    "#Classification report\n",
    "print(classification_report(y_test, xgb_predictions))"
   ]
  },
  {
   "cell_type": "markdown",
   "metadata": {},
   "source": [
    "### Saving my model and predictions"
   ]
  },
  {
   "cell_type": "markdown",
   "metadata": {},
   "source": [
    "We need to merge our test_labels dataset (that has no labels yet) with our final data so we can have a final test dataset."
   ]
  },
  {
   "cell_type": "code",
   "execution_count": null,
   "metadata": {
    "execution": {
     "iopub.execute_input": "2021-11-21T16:41:07.842725Z",
     "iopub.status.busy": "2021-11-21T16:41:07.842375Z",
     "iopub.status.idle": "2021-11-21T16:41:07.871357Z",
     "shell.execute_reply": "2021-11-21T16:41:07.870519Z",
     "shell.execute_reply.started": "2021-11-21T16:41:07.84268Z"
    }
   },
   "outputs": [],
   "source": [
    "test_data = pd.merge(inner_merged, test_labels, on='client_id')"
   ]
  },
  {
   "cell_type": "code",
   "execution_count": null,
   "metadata": {
    "execution": {
     "iopub.execute_input": "2021-11-21T16:41:07.873631Z",
     "iopub.status.busy": "2021-11-21T16:41:07.87309Z",
     "iopub.status.idle": "2021-11-21T16:41:07.888669Z",
     "shell.execute_reply": "2021-11-21T16:41:07.887775Z",
     "shell.execute_reply.started": "2021-11-21T16:41:07.873585Z"
    }
   },
   "outputs": [],
   "source": [
    "test_data.head()"
   ]
  },
  {
   "cell_type": "code",
   "execution_count": null,
   "metadata": {
    "execution": {
     "iopub.execute_input": "2021-11-21T16:41:07.890706Z",
     "iopub.status.busy": "2021-11-21T16:41:07.890431Z",
     "iopub.status.idle": "2021-11-21T16:41:07.906149Z",
     "shell.execute_reply": "2021-11-21T16:41:07.904955Z",
     "shell.execute_reply.started": "2021-11-21T16:41:07.890673Z"
    }
   },
   "outputs": [],
   "source": [
    "#Let's confirm that we have matched our 10,000 rows that were not used for training, with our clients with no label yet.\n",
    "test_data.shape"
   ]
  },
  {
   "cell_type": "code",
   "execution_count": null,
   "metadata": {
    "execution": {
     "iopub.execute_input": "2021-11-21T16:41:07.908439Z",
     "iopub.status.busy": "2021-11-21T16:41:07.907984Z",
     "iopub.status.idle": "2021-11-21T16:41:07.935049Z",
     "shell.execute_reply": "2021-11-21T16:41:07.933861Z",
     "shell.execute_reply.started": "2021-11-21T16:41:07.908403Z"
    }
   },
   "outputs": [],
   "source": [
    "test_data.set_index('client_id')"
   ]
  },
  {
   "cell_type": "code",
   "execution_count": null,
   "metadata": {
    "execution": {
     "iopub.execute_input": "2021-11-21T16:41:07.937423Z",
     "iopub.status.busy": "2021-11-21T16:41:07.936889Z",
     "iopub.status.idle": "2021-11-21T16:41:08.065959Z",
     "shell.execute_reply": "2021-11-21T16:41:08.064958Z",
     "shell.execute_reply.started": "2021-11-21T16:41:07.937386Z"
    }
   },
   "outputs": [],
   "source": [
    "final_predictions = xgb_model.predict(test_data)"
   ]
  },
  {
   "cell_type": "code",
   "execution_count": null,
   "metadata": {
    "execution": {
     "iopub.execute_input": "2021-11-21T16:41:08.168965Z",
     "iopub.status.busy": "2021-11-21T16:41:08.168645Z",
     "iopub.status.idle": "2021-11-21T16:41:08.174465Z",
     "shell.execute_reply": "2021-11-21T16:41:08.173543Z",
     "shell.execute_reply.started": "2021-11-21T16:41:08.168929Z"
    }
   },
   "outputs": [],
   "source": [
    "print(len(final_predictions))"
   ]
  },
  {
   "cell_type": "code",
   "execution_count": null,
   "metadata": {
    "execution": {
     "iopub.execute_input": "2021-11-21T16:41:08.176318Z",
     "iopub.status.busy": "2021-11-21T16:41:08.175612Z",
     "iopub.status.idle": "2021-11-21T16:41:08.188211Z",
     "shell.execute_reply": "2021-11-21T16:41:08.187426Z",
     "shell.execute_reply.started": "2021-11-21T16:41:08.17628Z"
    }
   },
   "outputs": [],
   "source": [
    "test_pred = pd.DataFrame({'client_id': test_data['client_id'], 'target_visit': final_predictions})"
   ]
  },
  {
   "cell_type": "code",
   "execution_count": null,
   "metadata": {
    "execution": {
     "iopub.execute_input": "2021-11-21T16:41:08.1904Z",
     "iopub.status.busy": "2021-11-21T16:41:08.189985Z",
     "iopub.status.idle": "2021-11-21T16:41:08.225744Z",
     "shell.execute_reply": "2021-11-21T16:41:08.224952Z",
     "shell.execute_reply.started": "2021-11-21T16:41:08.190355Z"
    }
   },
   "outputs": [],
   "source": [
    "test_pred.to_csv('submission.csv', index=False)"
   ]
  },
  {
   "cell_type": "code",
   "execution_count": null,
   "metadata": {
    "execution": {
     "iopub.execute_input": "2021-11-21T16:41:08.22786Z",
     "iopub.status.busy": "2021-11-21T16:41:08.22735Z",
     "iopub.status.idle": "2021-11-21T16:41:08.238749Z",
     "shell.execute_reply": "2021-11-21T16:41:08.23727Z",
     "shell.execute_reply.started": "2021-11-21T16:41:08.227823Z"
    }
   },
   "outputs": [],
   "source": [
    "test_pred.head()"
   ]
  },
  {
   "cell_type": "code",
   "execution_count": null,
   "metadata": {
    "execution": {
     "iopub.execute_input": "2021-11-21T16:41:08.076291Z",
     "iopub.status.busy": "2021-11-21T16:41:08.07603Z",
     "iopub.status.idle": "2021-11-21T16:41:08.166652Z",
     "shell.execute_reply": "2021-11-21T16:41:08.165504Z",
     "shell.execute_reply.started": "2021-11-21T16:41:08.076257Z"
    }
   },
   "outputs": [],
   "source": [
    "#Save the model \n",
    "\n",
    "import pickle\n",
    "\n",
    "filename = \"final_model.pkl\"\n",
    "\n",
    "pickle.dump(xgb_model, open(filename, 'wb'))"
   ]
  }
 ],
 "metadata": {
  "kernelspec": {
   "display_name": "Python 3",
   "language": "python",
   "name": "python3"
  },
  "language_info": {
   "codemirror_mode": {
    "name": "ipython",
    "version": 3
   },
   "file_extension": ".py",
   "mimetype": "text/x-python",
   "name": "python",
   "nbconvert_exporter": "python",
   "pygments_lexer": "ipython3",
   "version": "3.7.9"
  }
 },
 "nbformat": 4,
 "nbformat_minor": 4
}

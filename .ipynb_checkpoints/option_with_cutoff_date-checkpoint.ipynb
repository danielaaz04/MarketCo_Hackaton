{
 "cells": [
  {
   "cell_type": "markdown",
   "id": "earlier-lawyer",
   "metadata": {},
   "source": [
    "MarketCo"
   ]
  },
  {
   "cell_type": "markdown",
   "id": "divided-musical",
   "metadata": {},
   "source": [
    "Problem Definition"
   ]
  },
  {
   "cell_type": "markdown",
   "id": "processed-suggestion",
   "metadata": {},
   "source": [
    "Importing Libraries"
   ]
  },
  {
   "cell_type": "code",
   "execution_count": 4,
   "id": "false-italy",
   "metadata": {},
   "outputs": [],
   "source": [
    "#import libraries\n",
    "from __future__ import division\n",
    "from datetime import datetime, timedelta,date\n",
    "import pandas as pd\n",
    "%matplotlib inline\n",
    "from sklearn.metrics import classification_report,confusion_matrix\n",
    "import matplotlib.pyplot as plt\n",
    "import numpy as np\n",
    "import seaborn as sns\n",
    "from sklearn.cluster import KMeans\n",
    "\n",
    "#do not show warnings\n",
    "import warnings\n",
    "warnings.filterwarnings(\"ignore\")\n",
    "\n",
    "\n",
    "#import machine learning related libraries\n",
    "from sklearn.svm import SVC\n",
    "from sklearn.multioutput import MultiOutputClassifier\n",
    "from sklearn.ensemble import GradientBoostingClassifier\n",
    "from sklearn.tree import DecisionTreeClassifier\n",
    "from sklearn.neighbors import KNeighborsClassifier\n",
    "from sklearn.naive_bayes import GaussianNB\n",
    "from sklearn.ensemble import RandomForestClassifier\n",
    "from sklearn.linear_model import LogisticRegression\n",
    "import xgboost as xgb\n",
    "from sklearn.model_selection import KFold, cross_val_score, train_test_split\n"
   ]
  },
  {
   "cell_type": "markdown",
   "id": "engaging-bradley",
   "metadata": {},
   "source": [
    "Loading the data"
   ]
  },
  {
   "cell_type": "code",
   "execution_count": 5,
   "id": "alive-husband",
   "metadata": {},
   "outputs": [
    {
     "data": {
      "text/html": [
       "<div>\n",
       "<style scoped>\n",
       "    .dataframe tbody tr th:only-of-type {\n",
       "        vertical-align: middle;\n",
       "    }\n",
       "\n",
       "    .dataframe tbody tr th {\n",
       "        vertical-align: top;\n",
       "    }\n",
       "\n",
       "    .dataframe thead th {\n",
       "        text-align: right;\n",
       "    }\n",
       "</style>\n",
       "<table border=\"1\" class=\"dataframe\">\n",
       "  <thead>\n",
       "    <tr style=\"text-align: right;\">\n",
       "      <th></th>\n",
       "      <th>date</th>\n",
       "      <th>purchase_id</th>\n",
       "      <th>client_id</th>\n",
       "      <th>category_code</th>\n",
       "      <th>item_code</th>\n",
       "      <th>qty_sold</th>\n",
       "      <th>price</th>\n",
       "      <th>cost</th>\n",
       "    </tr>\n",
       "  </thead>\n",
       "  <tbody>\n",
       "    <tr>\n",
       "      <th>0</th>\n",
       "      <td>2020-06-01</td>\n",
       "      <td>0</td>\n",
       "      <td>0</td>\n",
       "      <td>0</td>\n",
       "      <td>0</td>\n",
       "      <td>1.0</td>\n",
       "      <td>29.187140</td>\n",
       "      <td>32.780351</td>\n",
       "    </tr>\n",
       "    <tr>\n",
       "      <th>1</th>\n",
       "      <td>2020-06-01</td>\n",
       "      <td>1</td>\n",
       "      <td>1</td>\n",
       "      <td>1</td>\n",
       "      <td>1</td>\n",
       "      <td>1.0</td>\n",
       "      <td>120.499503</td>\n",
       "      <td>89.553040</td>\n",
       "    </tr>\n",
       "    <tr>\n",
       "      <th>2</th>\n",
       "      <td>2020-06-01</td>\n",
       "      <td>1</td>\n",
       "      <td>1</td>\n",
       "      <td>2</td>\n",
       "      <td>2</td>\n",
       "      <td>1.0</td>\n",
       "      <td>123.064992</td>\n",
       "      <td>116.300730</td>\n",
       "    </tr>\n",
       "    <tr>\n",
       "      <th>3</th>\n",
       "      <td>2020-06-01</td>\n",
       "      <td>1</td>\n",
       "      <td>1</td>\n",
       "      <td>3</td>\n",
       "      <td>3</td>\n",
       "      <td>1.0</td>\n",
       "      <td>37.783663</td>\n",
       "      <td>18.476901</td>\n",
       "    </tr>\n",
       "    <tr>\n",
       "      <th>4</th>\n",
       "      <td>2020-06-01</td>\n",
       "      <td>1</td>\n",
       "      <td>1</td>\n",
       "      <td>4</td>\n",
       "      <td>4</td>\n",
       "      <td>1.0</td>\n",
       "      <td>40.274335</td>\n",
       "      <td>38.107742</td>\n",
       "    </tr>\n",
       "  </tbody>\n",
       "</table>\n",
       "</div>"
      ],
      "text/plain": [
       "         date  purchase_id  client_id  category_code  item_code  qty_sold  \\\n",
       "0  2020-06-01            0          0              0          0       1.0   \n",
       "1  2020-06-01            1          1              1          1       1.0   \n",
       "2  2020-06-01            1          1              2          2       1.0   \n",
       "3  2020-06-01            1          1              3          3       1.0   \n",
       "4  2020-06-01            1          1              4          4       1.0   \n",
       "\n",
       "        price        cost  \n",
       "0   29.187140   32.780351  \n",
       "1  120.499503   89.553040  \n",
       "2  123.064992  116.300730  \n",
       "3   37.783663   18.476901  \n",
       "4   40.274335   38.107742  "
      ]
     },
     "execution_count": 5,
     "metadata": {},
     "output_type": "execute_result"
    }
   ],
   "source": [
    "data = pd.read_csv('../Data/data.csv')\n",
    "target = pd.read_csv('../Data/train_labels.csv')\n",
    "test = pd.read_csv('../Data/test_labels.csv')\n",
    "data.head(5)"
   ]
  },
  {
   "cell_type": "markdown",
   "id": "dying-forestry",
   "metadata": {},
   "source": [
    "Data Understanding"
   ]
  },
  {
   "cell_type": "code",
   "execution_count": 6,
   "id": "treated-border",
   "metadata": {},
   "outputs": [
    {
     "name": "stdout",
     "output_type": "stream",
     "text": [
      "The shape of the data is:(10664209, 8)\n"
     ]
    }
   ],
   "source": [
    "print(\"The shape of the data is:\" + str(data.shape))"
   ]
  },
  {
   "cell_type": "code",
   "execution_count": 7,
   "id": "directed-gazette",
   "metadata": {},
   "outputs": [
    {
     "name": "stdout",
     "output_type": "stream",
     "text": [
      "<class 'pandas.core.frame.DataFrame'>\n",
      "RangeIndex: 10664209 entries, 0 to 10664208\n",
      "Data columns (total 8 columns):\n",
      " #   Column         Dtype  \n",
      "---  ------         -----  \n",
      " 0   date           object \n",
      " 1   purchase_id    int64  \n",
      " 2   client_id      int64  \n",
      " 3   category_code  int64  \n",
      " 4   item_code      int64  \n",
      " 5   qty_sold       float64\n",
      " 6   price          float64\n",
      " 7   cost           float64\n",
      "dtypes: float64(3), int64(4), object(1)\n",
      "memory usage: 650.9+ MB\n"
     ]
    }
   ],
   "source": [
    "#Checking if there are null values and each feature's type.\n",
    "data.info()"
   ]
  },
  {
   "cell_type": "code",
   "execution_count": 8,
   "id": "compatible-guidance",
   "metadata": {},
   "outputs": [
    {
     "data": {
      "text/plain": [
       "date             0\n",
       "purchase_id      0\n",
       "client_id        0\n",
       "category_code    0\n",
       "item_code        0\n",
       "qty_sold         0\n",
       "price            0\n",
       "cost             0\n",
       "dtype: int64"
      ]
     },
     "execution_count": 8,
     "metadata": {},
     "output_type": "execute_result"
    }
   ],
   "source": [
    "#Checking of there are any null values at any feature column.\n",
    "data.isnull().sum()"
   ]
  },
  {
   "cell_type": "code",
   "execution_count": 9,
   "id": "curious-wiring",
   "metadata": {},
   "outputs": [
    {
     "data": {
      "text/html": [
       "<div>\n",
       "<style scoped>\n",
       "    .dataframe tbody tr th:only-of-type {\n",
       "        vertical-align: middle;\n",
       "    }\n",
       "\n",
       "    .dataframe tbody tr th {\n",
       "        vertical-align: top;\n",
       "    }\n",
       "\n",
       "    .dataframe thead th {\n",
       "        text-align: right;\n",
       "    }\n",
       "</style>\n",
       "<table border=\"1\" class=\"dataframe\">\n",
       "  <thead>\n",
       "    <tr style=\"text-align: right;\">\n",
       "      <th></th>\n",
       "      <th>purchase_id</th>\n",
       "      <th>client_id</th>\n",
       "      <th>category_code</th>\n",
       "      <th>item_code</th>\n",
       "      <th>qty_sold</th>\n",
       "      <th>price</th>\n",
       "      <th>cost</th>\n",
       "    </tr>\n",
       "  </thead>\n",
       "  <tbody>\n",
       "    <tr>\n",
       "      <th>count</th>\n",
       "      <td>1.066421e+07</td>\n",
       "      <td>1.066421e+07</td>\n",
       "      <td>1.066421e+07</td>\n",
       "      <td>1.066421e+07</td>\n",
       "      <td>1.066421e+07</td>\n",
       "      <td>1.066421e+07</td>\n",
       "      <td>1.066421e+07</td>\n",
       "    </tr>\n",
       "    <tr>\n",
       "      <th>mean</th>\n",
       "      <td>7.795066e+05</td>\n",
       "      <td>3.660507e+04</td>\n",
       "      <td>4.350653e+01</td>\n",
       "      <td>4.609887e+03</td>\n",
       "      <td>1.103441e+00</td>\n",
       "      <td>7.293029e+01</td>\n",
       "      <td>5.417762e+01</td>\n",
       "    </tr>\n",
       "    <tr>\n",
       "      <th>std</th>\n",
       "      <td>4.499944e+05</td>\n",
       "      <td>2.572684e+04</td>\n",
       "      <td>2.446420e+01</td>\n",
       "      <td>5.663817e+03</td>\n",
       "      <td>9.355264e-01</td>\n",
       "      <td>8.531311e+01</td>\n",
       "      <td>6.468544e+01</td>\n",
       "    </tr>\n",
       "    <tr>\n",
       "      <th>min</th>\n",
       "      <td>0.000000e+00</td>\n",
       "      <td>0.000000e+00</td>\n",
       "      <td>0.000000e+00</td>\n",
       "      <td>0.000000e+00</td>\n",
       "      <td>-2.000000e+00</td>\n",
       "      <td>0.000000e+00</td>\n",
       "      <td>-1.264296e-01</td>\n",
       "    </tr>\n",
       "    <tr>\n",
       "      <th>25%</th>\n",
       "      <td>3.894520e+05</td>\n",
       "      <td>1.424300e+04</td>\n",
       "      <td>2.600000e+01</td>\n",
       "      <td>6.960000e+02</td>\n",
       "      <td>1.000000e+00</td>\n",
       "      <td>2.805518e+01</td>\n",
       "      <td>1.961301e+01</td>\n",
       "    </tr>\n",
       "    <tr>\n",
       "      <th>50%</th>\n",
       "      <td>7.791540e+05</td>\n",
       "      <td>3.273700e+04</td>\n",
       "      <td>4.000000e+01</td>\n",
       "      <td>2.647000e+03</td>\n",
       "      <td>1.000000e+00</td>\n",
       "      <td>4.928498e+01</td>\n",
       "      <td>3.398749e+01</td>\n",
       "    </tr>\n",
       "    <tr>\n",
       "      <th>75%</th>\n",
       "      <td>1.169039e+06</td>\n",
       "      <td>5.623200e+04</td>\n",
       "      <td>6.500000e+01</td>\n",
       "      <td>6.241000e+03</td>\n",
       "      <td>1.000000e+00</td>\n",
       "      <td>8.858160e+01</td>\n",
       "      <td>6.434823e+01</td>\n",
       "    </tr>\n",
       "    <tr>\n",
       "      <th>max</th>\n",
       "      <td>1.559306e+06</td>\n",
       "      <td>9.999800e+04</td>\n",
       "      <td>1.160000e+02</td>\n",
       "      <td>4.021100e+04</td>\n",
       "      <td>3.360000e+02</td>\n",
       "      <td>9.997433e+03</td>\n",
       "      <td>7.734636e+03</td>\n",
       "    </tr>\n",
       "  </tbody>\n",
       "</table>\n",
       "</div>"
      ],
      "text/plain": [
       "        purchase_id     client_id  category_code     item_code      qty_sold  \\\n",
       "count  1.066421e+07  1.066421e+07   1.066421e+07  1.066421e+07  1.066421e+07   \n",
       "mean   7.795066e+05  3.660507e+04   4.350653e+01  4.609887e+03  1.103441e+00   \n",
       "std    4.499944e+05  2.572684e+04   2.446420e+01  5.663817e+03  9.355264e-01   \n",
       "min    0.000000e+00  0.000000e+00   0.000000e+00  0.000000e+00 -2.000000e+00   \n",
       "25%    3.894520e+05  1.424300e+04   2.600000e+01  6.960000e+02  1.000000e+00   \n",
       "50%    7.791540e+05  3.273700e+04   4.000000e+01  2.647000e+03  1.000000e+00   \n",
       "75%    1.169039e+06  5.623200e+04   6.500000e+01  6.241000e+03  1.000000e+00   \n",
       "max    1.559306e+06  9.999800e+04   1.160000e+02  4.021100e+04  3.360000e+02   \n",
       "\n",
       "              price          cost  \n",
       "count  1.066421e+07  1.066421e+07  \n",
       "mean   7.293029e+01  5.417762e+01  \n",
       "std    8.531311e+01  6.468544e+01  \n",
       "min    0.000000e+00 -1.264296e-01  \n",
       "25%    2.805518e+01  1.961301e+01  \n",
       "50%    4.928498e+01  3.398749e+01  \n",
       "75%    8.858160e+01  6.434823e+01  \n",
       "max    9.997433e+03  7.734636e+03  "
      ]
     },
     "execution_count": 9,
     "metadata": {},
     "output_type": "execute_result"
    }
   ],
   "source": [
    "#Checking numerical parameters statistics:\n",
    "\n",
    "data.describe()"
   ]
  },
  {
   "cell_type": "code",
   "execution_count": 10,
   "id": "dutch-introduction",
   "metadata": {},
   "outputs": [],
   "source": [
    "data['date'] = pd.to_datetime(data['date'])"
   ]
  },
  {
   "cell_type": "code",
   "execution_count": 12,
   "id": "durable-flavor",
   "metadata": {},
   "outputs": [],
   "source": [
    "df_4m = data[(data.date <= datetime(2020,9,30)) & \n",
    "(data.date >= datetime(2020,6,1))].reset_index(drop=True)\n",
    "\n",
    "df_next = data[(data.date > datetime(2020,9,30)) & \n",
    "               (data.date <= datetime(2020,10,24))].reset_index(drop=True)"
   ]
  },
  {
   "cell_type": "code",
   "execution_count": 14,
   "id": "friendly-birthday",
   "metadata": {},
   "outputs": [
    {
     "data": {
      "text/html": [
       "<div>\n",
       "<style scoped>\n",
       "    .dataframe tbody tr th:only-of-type {\n",
       "        vertical-align: middle;\n",
       "    }\n",
       "\n",
       "    .dataframe tbody tr th {\n",
       "        vertical-align: top;\n",
       "    }\n",
       "\n",
       "    .dataframe thead th {\n",
       "        text-align: right;\n",
       "    }\n",
       "</style>\n",
       "<table border=\"1\" class=\"dataframe\">\n",
       "  <thead>\n",
       "    <tr style=\"text-align: right;\">\n",
       "      <th></th>\n",
       "      <th>date</th>\n",
       "      <th>purchase_id</th>\n",
       "      <th>client_id</th>\n",
       "      <th>category_code</th>\n",
       "      <th>item_code</th>\n",
       "      <th>qty_sold</th>\n",
       "      <th>price</th>\n",
       "      <th>cost</th>\n",
       "    </tr>\n",
       "  </thead>\n",
       "  <tbody>\n",
       "    <tr>\n",
       "      <th>0</th>\n",
       "      <td>2020-10-01</td>\n",
       "      <td>2562</td>\n",
       "      <td>2483</td>\n",
       "      <td>52</td>\n",
       "      <td>6428</td>\n",
       "      <td>1.00</td>\n",
       "      <td>76.920344</td>\n",
       "      <td>52.591244</td>\n",
       "    </tr>\n",
       "    <tr>\n",
       "      <th>1</th>\n",
       "      <td>2020-10-01</td>\n",
       "      <td>2563</td>\n",
       "      <td>2484</td>\n",
       "      <td>14</td>\n",
       "      <td>104</td>\n",
       "      <td>1.00</td>\n",
       "      <td>179.800122</td>\n",
       "      <td>124.988006</td>\n",
       "    </tr>\n",
       "    <tr>\n",
       "      <th>2</th>\n",
       "      <td>2020-10-01</td>\n",
       "      <td>2564</td>\n",
       "      <td>2485</td>\n",
       "      <td>58</td>\n",
       "      <td>796</td>\n",
       "      <td>1.63</td>\n",
       "      <td>62.166841</td>\n",
       "      <td>67.764180</td>\n",
       "    </tr>\n",
       "    <tr>\n",
       "      <th>3</th>\n",
       "      <td>2020-10-01</td>\n",
       "      <td>2564</td>\n",
       "      <td>2485</td>\n",
       "      <td>52</td>\n",
       "      <td>1263</td>\n",
       "      <td>1.00</td>\n",
       "      <td>115.504785</td>\n",
       "      <td>68.637428</td>\n",
       "    </tr>\n",
       "    <tr>\n",
       "      <th>4</th>\n",
       "      <td>2020-10-01</td>\n",
       "      <td>2564</td>\n",
       "      <td>2485</td>\n",
       "      <td>52</td>\n",
       "      <td>6429</td>\n",
       "      <td>1.00</td>\n",
       "      <td>120.631012</td>\n",
       "      <td>71.683630</td>\n",
       "    </tr>\n",
       "  </tbody>\n",
       "</table>\n",
       "</div>"
      ],
      "text/plain": [
       "        date  purchase_id  client_id  category_code  item_code  qty_sold  \\\n",
       "0 2020-10-01         2562       2483             52       6428      1.00   \n",
       "1 2020-10-01         2563       2484             14        104      1.00   \n",
       "2 2020-10-01         2564       2485             58        796      1.63   \n",
       "3 2020-10-01         2564       2485             52       1263      1.00   \n",
       "4 2020-10-01         2564       2485             52       6429      1.00   \n",
       "\n",
       "        price        cost  \n",
       "0   76.920344   52.591244  \n",
       "1  179.800122  124.988006  \n",
       "2   62.166841   67.764180  \n",
       "3  115.504785   68.637428  \n",
       "4  120.631012   71.683630  "
      ]
     },
     "execution_count": 14,
     "metadata": {},
     "output_type": "execute_result"
    }
   ],
   "source": [
    "df_next.head()"
   ]
  },
  {
   "cell_type": "code",
   "execution_count": 16,
   "id": "abroad-measurement",
   "metadata": {},
   "outputs": [],
   "source": [
    "df_user = pd.DataFrame(df_4m['client_id'].unique())\n",
    "df_user.columns = ['client_id']"
   ]
  },
  {
   "cell_type": "code",
   "execution_count": null,
   "id": "invalid-acquisition",
   "metadata": {},
   "outputs": [],
   "source": []
  }
 ],
 "metadata": {
  "kernelspec": {
   "display_name": "Python 3",
   "language": "python",
   "name": "python3"
  },
  "language_info": {
   "codemirror_mode": {
    "name": "ipython",
    "version": 3
   },
   "file_extension": ".py",
   "mimetype": "text/x-python",
   "name": "python",
   "nbconvert_exporter": "python",
   "pygments_lexer": "ipython3",
   "version": "3.7.9"
  }
 },
 "nbformat": 4,
 "nbformat_minor": 5
}
